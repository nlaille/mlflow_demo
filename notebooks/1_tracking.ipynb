{
 "cells": [
  {
   "cell_type": "markdown",
   "metadata": {},
   "source": [
    "# Simple use case\n",
    "\n"
   ]
  },
  {
   "cell_type": "code",
   "execution_count": null,
   "metadata": {},
   "outputs": [],
   "source": [
    "import mlflow\n",
    "\n",
    "mlflow.set_experiment(\"1_basic\")"
   ]
  },
  {
   "cell_type": "markdown",
   "metadata": {},
   "source": [
    "---\n",
    "**mlflow.log_param(key, value)**\n",
    "\n",
    "Log a parameter under the current run, creating a run if necessary.\n",
    "\n",
    "Parameters:\t\n",
    "key – Parameter name (string)\n",
    "\n",
    "value – Parameter value (string, but will be string-ified if not)\n",
    "\n",
    "---\n",
    "**mlflow.log_metric(key, value, step=None)**\n",
    "\n",
    "Log a metric under the current run, creating a run if necessary.\n",
    "\n",
    "Parameters:\t\n",
    "key – Metric name (string).\n",
    "\n",
    "value – Metric value (float). \n",
    "\n",
    "step – Metric step (int). Defaults to zero if unspecified."
   ]
  },
  {
   "cell_type": "code",
   "execution_count": null,
   "metadata": {},
   "outputs": [],
   "source": [
    "import math\n",
    "import tempfile\n",
    "\n",
    "with mlflow.start_run():\n",
    "    mlflow.log_param(\"alpha\", \"1\")\n",
    "    \n",
    "    for i in range(10):\n",
    "        mlflow.log_metric(\"i\", math.log(i + 1))\n",
    "        \n",
    "    with tempfile.NamedTemporaryFile(mode='w+', suffix='.txt') as tmp:\n",
    "        tmp.write(\"My first artifact !\")\n",
    "        tmp.flush()\n",
    "        mlflow.log_artifact(tmp.name)"
   ]
  }
 ],
 "metadata": {
  "kernelspec": {
   "display_name": "Python 3",
   "language": "python",
   "name": "python3"
  },
  "language_info": {
   "codemirror_mode": {
    "name": "ipython",
    "version": 3
   },
   "file_extension": ".py",
   "mimetype": "text/x-python",
   "name": "python",
   "nbconvert_exporter": "python",
   "pygments_lexer": "ipython3",
   "version": "3.6.8"
  }
 },
 "nbformat": 4,
 "nbformat_minor": 4
}
